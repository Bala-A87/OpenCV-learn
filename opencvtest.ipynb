{
 "cells": [
  {
   "cell_type": "code",
   "execution_count": 1,
   "metadata": {},
   "outputs": [],
   "source": [
    "import cv2\n",
    "import numpy as np\n",
    "import matplotlib.pyplot as plt\n",
    "imgpath = \"Random/\""
   ]
  },
  {
   "cell_type": "code",
   "execution_count": 2,
   "metadata": {},
   "outputs": [],
   "source": [
    "def getpath(filename):\n",
    "    return imgpath+filename"
   ]
  },
  {
   "cell_type": "code",
   "execution_count": 3,
   "metadata": {},
   "outputs": [
    {
     "name": "stderr",
     "output_type": "stream",
     "text": [
      "qt.qpa.plugin: Could not find the Qt platform plugin \"wayland\" in \"/home/balakrishnan/.local/lib/python3.10/site-packages/cv2/qt/plugins\"\n"
     ]
    },
    {
     "data": {
      "text/plain": [
       "(192, 263, 3)"
      ]
     },
     "execution_count": 3,
     "metadata": {},
     "output_type": "execute_result"
    }
   ],
   "source": [
    "img = cv2.imread(getpath(\"broccolitree.jpeg\"), cv2.IMREAD_COLOR) # For colour, second parameter is also the default\n",
    "# img = cv2.imread(getpath(\"broccolitree.jpeg\"), 0) # Grayscale, comment out what you don't want\n",
    "cv2.imshow(\"Broccoli treehouse\", img)\n",
    "cv2.waitKey(10000) # Waits for 10s/key press before destroying the window\n",
    "cv2.destroyAllWindows()\n",
    "img.shape"
   ]
  },
  {
   "cell_type": "code",
   "execution_count": 4,
   "metadata": {},
   "outputs": [],
   "source": [
    "img = cv2.imread(getpath(\"lightbulbguy.jpeg\"))\n",
    "B, G, R = cv2.split(img)\n",
    "cv2.imshow(\"original\", img)\n",
    "cv2.waitKey(0)\n",
    "cv2.imshow(\"blue\", B)\n",
    "cv2.waitKey(0)\n",
    "cv2.imshow(\"green\", G)\n",
    "cv2.waitKey(0)\n",
    "cv2.imshow(\"red\", R)\n",
    "cv2.waitKey(0)\n",
    "cv2.destroyAllWindows()"
   ]
  },
  {
   "cell_type": "code",
   "execution_count": 5,
   "metadata": {},
   "outputs": [],
   "source": [
    "# img1 = cv2.imread(getpath(\"pencils.jpeg\"))\n",
    "# img2 = cv2.imread(getpath(\"static.jpeg\"))\n",
    "img = cv2.addWeighted(B, 0.7, G, 0.4, 0) # Requires both images to be of same size, naturally\n",
    "cv2.imshow(\"Weighted addition\", img)\n",
    "cv2.waitKey(0)\n",
    "cv2.destroyAllWindows()"
   ]
  },
  {
   "cell_type": "code",
   "execution_count": 7,
   "metadata": {},
   "outputs": [],
   "source": [
    "img = cv2.subtract(B, G)\n",
    "cv2.imshow(\"Subtraction\", img)\n",
    "cv2.waitKey(0)\n",
    "cv2.destroyAllWindows()"
   ]
  },
  {
   "cell_type": "code",
   "execution_count": 10,
   "metadata": {},
   "outputs": [],
   "source": [
    "orimg = cv2.bitwise_or(B, R)\n",
    "andimg = cv2.bitwise_and(B, R)\n",
    "xorimg = cv2.bitwise_xor(B, R)\n",
    "cv2.imshow(\"or\", orimg)\n",
    "cv2.waitKey(0)\n",
    "cv2.imshow(\"and\", andimg)\n",
    "cv2.waitKey(0)\n",
    "cv2.imshow(\"xor\", xorimg)\n",
    "cv2.waitKey(0)\n",
    "cv2.destroyAllWindows()"
   ]
  },
  {
   "cell_type": "code",
   "execution_count": 18,
   "metadata": {},
   "outputs": [],
   "source": [
    "img = cv2.imread(getpath(\"dice.jpeg\"))\n",
    "notimg = cv2.bitwise_not(img)\n",
    "cv2.imshow(\"original\", img)\n",
    "cv2.waitKey(0)\n",
    "cv2.imshow(\"not\", notimg)\n",
    "cv2.waitKey(0)\n",
    "cv2.destroyAllWindows()"
   ]
  },
  {
   "cell_type": "code",
   "execution_count": 11,
   "metadata": {},
   "outputs": [],
   "source": [
    "img = cv2.imread(getpath(\"ducktapebanana.jpeg\"))\n",
    "half = cv2.resize(img, (0, 0), fx=0.5, fy=0.5) # scales width and height by 0.5\n",
    "double = cv2.resize(img, (0, 0), fx=2, fy=2)\n",
    "rdm = cv2.resize(img, (100, 112)) # sets width = 500, height = 400\n",
    "interpol = cv2.resize(img, (100, 112), interpolation=cv2.INTER_NEAREST) #Various interpolation methods available\n",
    "cv2.imshow(\"original\", img)\n",
    "cv2.waitKey(0)\n",
    "cv2.imshow(\"half-sized\", half)\n",
    "cv2.waitKey(0)\n",
    "cv2.imshow(\"double-sized\", double)\n",
    "cv2.waitKey(0)\n",
    "cv2.imshow(\"random\", rdm)\n",
    "cv2.waitKey(0)\n",
    "cv2.imshow(\"interpolated\", interpol)\n",
    "cv2.waitKey(0)\n",
    "cv2.destroyAllWindows()"
   ]
  },
  {
   "cell_type": "code",
   "execution_count": 19,
   "metadata": {},
   "outputs": [],
   "source": [
    "img = cv2.imread(getpath(\"ourarmy.jpeg\"))\n",
    "gaussian = cv2.GaussianBlur(img, (15, 5), 0)\n",
    "median = cv2.medianBlur(img, 3)\n",
    "bilateral = cv2.bilateralFilter(img, 15, 100, 10)\n",
    "\n",
    "cv2.imshow(\"original\", img)\n",
    "cv2.waitKey(0)\n",
    "cv2.imshow(\"gaussian\", gaussian)\n",
    "cv2.imshow(\"median\", median)\n",
    "cv2.imshow(\"bilateral\", bilateral)\n",
    "cv2.waitKey(0)\n",
    "cv2.destroyAllWindows()"
   ]
  },
  {
   "cell_type": "code",
   "execution_count": 25,
   "metadata": {},
   "outputs": [],
   "source": [
    "img = cv2.imread(getpath(\"lightbulbguy.jpeg\"))\n",
    "kernel = np.ones((3, 3), np.uint8)\n",
    "\n",
    "eroded = cv2.erode(img, kernel)\n",
    "cv2.imshow(\"original\", img)\n",
    "cv2.waitKey(0)\n",
    "cv2.imshow(\"eroded\", eroded)\n",
    "cv2.waitKey(0)\n",
    "cv2.destroyAllWindows()"
   ]
  }
 ],
 "metadata": {
  "kernelspec": {
   "display_name": "Python 3.10.4 64-bit",
   "language": "python",
   "name": "python3"
  },
  "language_info": {
   "codemirror_mode": {
    "name": "ipython",
    "version": 3
   },
   "file_extension": ".py",
   "mimetype": "text/x-python",
   "name": "python",
   "nbconvert_exporter": "python",
   "pygments_lexer": "ipython3",
   "version": "3.10.4"
  },
  "orig_nbformat": 4,
  "vscode": {
   "interpreter": {
    "hash": "916dbcbb3f70747c44a77c7bcd40155683ae19c65e1c03b4aa3499c5328201f1"
   }
  }
 },
 "nbformat": 4,
 "nbformat_minor": 2
}
